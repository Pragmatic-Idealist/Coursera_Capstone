{
 "cells": [
  {
   "cell_type": "markdown",
   "metadata": {},
   "source": [
    "# The Composition of Venues in NYC neighborhoods and Their Effect on COVID-19 Infection rates -- IBM Capstone Coursera"
   ]
  },
  {
   "cell_type": "markdown",
   "metadata": {},
   "source": [
    "## 1. Introduction:\n",
    "COVID-19 has devastated the world and one of the epicenters of this pandemic is New York City. While many studies and research has been conducted on the spread and infection rates of the virus, I wanted to try an analysis of how the type of venue influences infection rates of a neighborhood. As New York City enters into the later phases of re-opening, I believe it's important to see if there is any correlation between being opened venues (restaurants, bars, coffee shops) and infection rates."
   ]
  },
  {
   "cell_type": "markdown",
   "metadata": {
    "ExecuteTime": {
     "end_time": "2020-07-08T22:46:30.264040Z",
     "start_time": "2020-07-08T22:46:30.258234Z"
    }
   },
   "source": [
    "## 2. Research Problem:\n",
    "In this project, we will explore the neighborhoods of New York City:\n",
    "- If the type of venues can affect the infection rates of a neighborhood\n",
    "- If the concentration of venues could affect the infection rates of a neighborhood \n",
    "- If we could use this information on recommendating specific strategies of reopening or the development of contigency plans for the people and businesses affected by the pandemic.\n",
    "  "
   ]
  },
  {
   "cell_type": "markdown",
   "metadata": {},
   "source": [
    "## 3. Data Sources:  \n",
    "The main data used for this project will be from two sources:\n",
    "- The infection rate of New York city neighborhoods. ([NYC.gov](https://www1.nyc.gov/site/doh/covid/covid-19-data.page))\n",
    "- Offical Github of NYC Health data sources. ([Github NYC Health](https://github.com/nychealth/coronavirus-data))\n",
    "- The venues in each neighborhood. ([FourSquare API](https://developer.foursquare.com/))  \n",
    " \n",
    "\n",
    "*Note: Understandably infection rates may not be reported at where the infected person caught the virus (ie the venues in question); however, they could reveal how venues in proximity where people live could affect infection rates"
   ]
  },
  {
   "cell_type": "markdown",
   "metadata": {},
   "source": [
    "## 4. Methodology:\n",
    "- Infection rates by neighborhood will be extracted from NYCData's website\n",
    "- For each neighborhood/zipcode, Geocoder will acquire its coordinates\n",
    "- For each neighborhood/zipcode's coodinates, FourSquare API will acquire all surronding venues.\n",
    "- The frequency of type of venue will be analyzed with the infection rates.\n",
    "\n"
   ]
  },
  {
   "cell_type": "markdown",
   "metadata": {},
   "source": [
    "## 5. Analysis and Modeling:\n",
    "- Exploratory Data Analysis will be conducted on which venues are more correlated to higher infection rates\n",
    "- PCA/Clustering algorithms will utilized to generate types of neighborhoods\n",
    "- Venue counts and clusters generated can be used in regressions to see how well they predict infection rates."
   ]
  },
  {
   "cell_type": "code",
   "execution_count": null,
   "metadata": {},
   "outputs": [],
   "source": []
  }
 ],
 "metadata": {
  "kernelspec": {
   "display_name": "Python 3",
   "language": "python",
   "name": "python3"
  },
  "language_info": {
   "codemirror_mode": {
    "name": "ipython",
    "version": 3
   },
   "file_extension": ".py",
   "mimetype": "text/x-python",
   "name": "python",
   "nbconvert_exporter": "python",
   "pygments_lexer": "ipython3",
   "version": "3.7.4"
  },
  "varInspector": {
   "cols": {
    "lenName": 16,
    "lenType": 16,
    "lenVar": 40
   },
   "kernels_config": {
    "python": {
     "delete_cmd_postfix": "",
     "delete_cmd_prefix": "del ",
     "library": "var_list.py",
     "varRefreshCmd": "print(var_dic_list())"
    },
    "r": {
     "delete_cmd_postfix": ") ",
     "delete_cmd_prefix": "rm(",
     "library": "var_list.r",
     "varRefreshCmd": "cat(var_dic_list()) "
    }
   },
   "types_to_exclude": [
    "module",
    "function",
    "builtin_function_or_method",
    "instance",
    "_Feature"
   ],
   "window_display": false
  }
 },
 "nbformat": 4,
 "nbformat_minor": 2
}
